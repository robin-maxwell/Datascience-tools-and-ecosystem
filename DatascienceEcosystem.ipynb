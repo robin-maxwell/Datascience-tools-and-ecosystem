{
  "metadata": {
    "language_info": {
      "codemirror_mode": {
        "name": "python",
        "version": 3
      },
      "file_extension": ".py",
      "mimetype": "text/x-python",
      "name": "python",
      "nbconvert_exporter": "python",
      "pygments_lexer": "ipython3",
      "version": "3.8"
    },
    "kernelspec": {
      "name": "python",
      "display_name": "Python (Pyodide)",
      "language": "python"
    }
  },
  "nbformat_minor": 4,
  "nbformat": 4,
  "cells": [
    {
      "cell_type": "code",
      "source": "# Data Science Tools and Ecosystem",
      "metadata": {},
      "execution_count": null,
      "outputs": []
    }, 
    {
      "cell_type": "markdown",
      "source": "# Data Science Tools and Ecosystem",
      "metadata": {}
    },
    {
      "cell_type": "markdown",
      "source": "In this Notebook, Data Science Tools and Ecosystem are summarised",
      "metadata": {}
    },
    {
      "cell_type": "code",
      "source": "some of popular languages that data Scientist use are:\n    1. Python\n    2.julia\n    3. R",
      "metadata": {},
      "execution_count": null,
      "outputs": []
    },
    {
      "cell_type": "markdown",
      "source": "some of popular languages that data Scientist use are:\n\n       1. Python\n       2.julia\n       3. R",
      "metadata": {}
    },
    {
      "cell_type": "code",
      "source": "Some of the commonly used Libraries by Data Scientists include:\n    1.Pandas\n    2.numpy\n    3.Pytorch",
      "metadata": {},
      "execution_count": null,
      "outputs": []
    },
    {
      "cell_type": "markdown",
      "source": "Some of the commonly used Libraries by Data Scientists include:\n \n    1.Pandas\n    2.numpy\n    3.Pytorch\n    ",
      "metadata": {}
    },
    {
      "cell_type": "markdown",
      "source": "| DataScience Tools |\n|-------------------|\n1.Apachespark\n2.Tensorflow\n3.Apache Hardoop",
      "metadata": {}
    },
    {
      "cell_type": "markdown",
      "source": "| DataScience Tools |\n|-------------------|\n1.Apachespark\n2.Tensorflow\n3.Apache Hardoop",
      "metadata": {}
    },
    {
      "cell_type": "code",
      "source": "### Below are a few examples of evaluating Arithmeticexpression in Python",
      "metadata": {},
      "execution_count": null,
      "outputs": []
    },
    {
      "cell_type": "markdown",
      "source": "### Below are a few examples of evaluating Arithmeticexpression in Python\n",
      "metadata": {}
    },
    {
      "cell_type": "code",
      "source": "This is simple arithmetic expression to multiply then add integers",
      "metadata": {},
      "execution_count": null,
      "outputs": []
    },
    {
      "cell_type": "markdown",
      "source": "This is simple arithmetic expression to multiply then add integers\n",
      "metadata": {}
    },
    {
      "cell_type": "code",
      "source": "(3*4) +5",
      "metadata": {
        "trusted": true
      },
      "execution_count": 5,
      "outputs": [
        {
          "execution_count": 5,
          "output_type": "execute_result",
          "data": {
            "text/plain": "17"
          },
          "metadata": {}
        }
      ]
    },
    {
      "cell_type": "markdown",
      "source": " This will convert 200 minutes to hours by diving by 60",
      "metadata": {}
    },
    {
      "cell_type": "code",
      "source": "200/60",
      "metadata": {
        "trusted": true
      },
      "execution_count": 8,
      "outputs": [
        {
          "execution_count": 8,
          "output_type": "execute_result",
          "data": {
            "text/plain": "3.3333333333333335"
          },
          "metadata": {}
        }
      ]
    },
    {
      "cell_type": "code",
      "source": "**Objectives**",
      "metadata": {},
      "execution_count": null,
      "outputs": []
    },
    {
      "cell_type": "markdown",
      "source": "**Objectives**\n   ",
      "metadata": {}
    },
    {
      "cell_type": "code",
      "source": "   +list popular languages for data science\n   +list tools used in data science\n   +list popular libraries for data science",
      "metadata": {
        "jupyter": {
          "source_hidden": true
        },
        "tags": []
      },
      "execution_count": null,
      "outputs": []
    },
    {
      "cell_type": "markdown",
      "source": "    +list popular languages for data science\n    +list tools used in data science\n    +list popular libraries for data science",
      "metadata": {}
    },
    {
      "cell_type": "code",
      "source": "## Author\nRobin Maxwell",
      "metadata": {},
      "execution_count": null,
      "outputs": []
    },
    {                      
      "cell_type": "markdown",
      "source": "## Author\nRobin Maxwell",
      "metadata": {}
    },
    {
      "cell_type": "code",
      "source": "",
      "metadata": {},
      "execution_count": null,
      "outputs": []
    }
  ]
}
